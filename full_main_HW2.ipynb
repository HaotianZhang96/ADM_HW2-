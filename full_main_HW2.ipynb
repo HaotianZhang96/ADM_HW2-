{
 "cells": [
  {
   "cell_type": "markdown",
   "metadata": {},
   "source": [
    " # Homework 2 - eCommerce analytics"
   ]
  },
  {
   "cell_type": "markdown",
   "metadata": {},
   "source": [
    "This Jupyter notebook contain the answers to the research questions of [ADM Homework2](https://github.com/CriMenghini/ADM/tree/master/2020/Homework_2)\n",
    "\n",
    "Group 16 is composed by: Haotian Zhang and Francesca Casarano"
   ]
  },
  {
   "cell_type": "markdown",
   "metadata": {},
   "source": [
    "## Liabraries"
   ]
  },
  {
   "cell_type": "code",
   "execution_count": 1,
   "metadata": {
    "ExecuteTime": {
     "end_time": "2020-11-14T13:55:14.040996Z",
     "start_time": "2020-11-14T13:55:12.586001Z"
    }
   },
   "outputs": [],
   "source": [
    "import numpy as np\n",
    "import pandas as pd\n",
    "import matplotlib.pyplot as plt\n",
    "import math\n",
    "import gc\n",
    "import calendar\n",
    "import json\n",
    "from collections import OrderedDict"
   ]
  },
  {
   "cell_type": "markdown",
   "metadata": {},
   "source": [
    "## Load Datasets"
   ]
  },
  {
   "cell_type": "markdown",
   "metadata": {},
   "source": [
    "We use two methodologies to read and work with files. Because of the huge quantity of data, not always our PCs are able to run the whole dataset. So, depending on what we have to analys, whe choose the faster and easyier way.\n",
    "\n",
    "The first one consists on loading files as pandas DataFrames and concat them.\n",
    "The second one consists on process the data set in chunks, one after another, to make computations on this data set more efficient."
   ]
  },
  {
   "cell_type": "code",
   "execution_count": 2,
   "metadata": {
    "ExecuteTime": {
     "end_time": "2020-11-14T14:12:18.413822Z",
     "start_time": "2020-11-14T13:55:14.046997Z"
    }
   },
   "outputs": [],
   "source": [
    "oct19= pd.read_csv('2019-Oct.csv',\n",
    "                      parse_dates=['event_time'],\n",
    "                      date_parser=pd.to_datetime)\n",
    "nov19=pd.read_csv('2019-Nov.csv',\n",
    "                      parse_dates=['event_time'],\n",
    "                      date_parser=pd.to_datetime)"
   ]
  },
  {
   "cell_type": "code",
   "execution_count": 1,
   "metadata": {},
   "outputs": [],
   "source": [
    "# Define Files to be Read\n",
    "files = ['2019-Oct.csv',\n",
    "         '2019-Nov.csv']\n",
    "\n",
    "# Define DataFrame Chunk Size\n",
    "\n",
    "chunksize = 9999999"
   ]
  },
  {
   "cell_type": "code",
   "execution_count": 3,
   "metadata": {
    "ExecuteTime": {
     "end_time": "2020-11-14T14:13:15.772332Z",
     "start_time": "2020-11-14T14:12:18.422729Z"
    }
   },
   "outputs": [],
   "source": [
    "frame = [oct19,nov19]\n",
    "df = pd.concat(frame)"
   ]
  },
  {
   "cell_type": "markdown",
   "metadata": {},
   "source": [
    "## Before Starting\n",
    "Before starting to solve questions, we should see the kind of data of each column of our dataset."
   ]
  },
  {
   "cell_type": "markdown",
   "metadata": {},
   "source": [
    "* Looking at the column **category_code** we notice that it represents not only the category but also the product and, sometimes, also the subcategory.\n",
    "\n",
    "* There are some Nan values. We decide to consider them as not relevant, and we drop them from de dataset\n",
    "\n",
    "* There is no *removefromchart* in **event_type** for the two month that we'll consider"
   ]
  },
  {
   "cell_type": "markdown",
   "metadata": {},
   "source": [
    "**Show the top 5 rows**"
   ]
  },
  {
   "cell_type": "code",
   "execution_count": 4,
   "metadata": {
    "ExecuteTime": {
     "end_time": "2020-11-14T14:13:16.011578Z",
     "start_time": "2020-11-14T14:13:15.790327Z"
    }
   },
   "outputs": [
    {
     "name": "stdout",
     "output_type": "stream",
     "text": [
      "(109950743, 9)\n"
     ]
    },
    {
     "data": {
      "text/html": [
       "<div>\n",
       "<style scoped>\n",
       "    .dataframe tbody tr th:only-of-type {\n",
       "        vertical-align: middle;\n",
       "    }\n",
       "\n",
       "    .dataframe tbody tr th {\n",
       "        vertical-align: top;\n",
       "    }\n",
       "\n",
       "    .dataframe thead th {\n",
       "        text-align: right;\n",
       "    }\n",
       "</style>\n",
       "<table border=\"1\" class=\"dataframe\">\n",
       "  <thead>\n",
       "    <tr style=\"text-align: right;\">\n",
       "      <th></th>\n",
       "      <th>event_time</th>\n",
       "      <th>event_type</th>\n",
       "      <th>product_id</th>\n",
       "      <th>category_id</th>\n",
       "      <th>category_code</th>\n",
       "      <th>brand</th>\n",
       "      <th>price</th>\n",
       "      <th>user_id</th>\n",
       "      <th>user_session</th>\n",
       "    </tr>\n",
       "  </thead>\n",
       "  <tbody>\n",
       "    <tr>\n",
       "      <th>0</th>\n",
       "      <td>2019-10-01 00:00:00+00:00</td>\n",
       "      <td>view</td>\n",
       "      <td>44600062</td>\n",
       "      <td>2103807459595387724</td>\n",
       "      <td>NaN</td>\n",
       "      <td>shiseido</td>\n",
       "      <td>35.79</td>\n",
       "      <td>541312140</td>\n",
       "      <td>72d76fde-8bb3-4e00-8c23-a032dfed738c</td>\n",
       "    </tr>\n",
       "    <tr>\n",
       "      <th>1</th>\n",
       "      <td>2019-10-01 00:00:00+00:00</td>\n",
       "      <td>view</td>\n",
       "      <td>3900821</td>\n",
       "      <td>2053013552326770905</td>\n",
       "      <td>appliances.environment.water_heater</td>\n",
       "      <td>aqua</td>\n",
       "      <td>33.20</td>\n",
       "      <td>554748717</td>\n",
       "      <td>9333dfbd-b87a-4708-9857-6336556b0fcc</td>\n",
       "    </tr>\n",
       "    <tr>\n",
       "      <th>2</th>\n",
       "      <td>2019-10-01 00:00:01+00:00</td>\n",
       "      <td>view</td>\n",
       "      <td>17200506</td>\n",
       "      <td>2053013559792632471</td>\n",
       "      <td>furniture.living_room.sofa</td>\n",
       "      <td>NaN</td>\n",
       "      <td>543.10</td>\n",
       "      <td>519107250</td>\n",
       "      <td>566511c2-e2e3-422b-b695-cf8e6e792ca8</td>\n",
       "    </tr>\n",
       "    <tr>\n",
       "      <th>3</th>\n",
       "      <td>2019-10-01 00:00:01+00:00</td>\n",
       "      <td>view</td>\n",
       "      <td>1307067</td>\n",
       "      <td>2053013558920217191</td>\n",
       "      <td>computers.notebook</td>\n",
       "      <td>lenovo</td>\n",
       "      <td>251.74</td>\n",
       "      <td>550050854</td>\n",
       "      <td>7c90fc70-0e80-4590-96f3-13c02c18c713</td>\n",
       "    </tr>\n",
       "    <tr>\n",
       "      <th>4</th>\n",
       "      <td>2019-10-01 00:00:04+00:00</td>\n",
       "      <td>view</td>\n",
       "      <td>1004237</td>\n",
       "      <td>2053013555631882655</td>\n",
       "      <td>electronics.smartphone</td>\n",
       "      <td>apple</td>\n",
       "      <td>1081.98</td>\n",
       "      <td>535871217</td>\n",
       "      <td>c6bd7419-2748-4c56-95b4-8cec9ff8b80d</td>\n",
       "    </tr>\n",
       "  </tbody>\n",
       "</table>\n",
       "</div>"
      ],
      "text/plain": [
       "                 event_time event_type  product_id          category_id  \\\n",
       "0 2019-10-01 00:00:00+00:00       view    44600062  2103807459595387724   \n",
       "1 2019-10-01 00:00:00+00:00       view     3900821  2053013552326770905   \n",
       "2 2019-10-01 00:00:01+00:00       view    17200506  2053013559792632471   \n",
       "3 2019-10-01 00:00:01+00:00       view     1307067  2053013558920217191   \n",
       "4 2019-10-01 00:00:04+00:00       view     1004237  2053013555631882655   \n",
       "\n",
       "                         category_code     brand    price    user_id  \\\n",
       "0                                  NaN  shiseido    35.79  541312140   \n",
       "1  appliances.environment.water_heater      aqua    33.20  554748717   \n",
       "2           furniture.living_room.sofa       NaN   543.10  519107250   \n",
       "3                   computers.notebook    lenovo   251.74  550050854   \n",
       "4               electronics.smartphone     apple  1081.98  535871217   \n",
       "\n",
       "                           user_session  \n",
       "0  72d76fde-8bb3-4e00-8c23-a032dfed738c  \n",
       "1  9333dfbd-b87a-4708-9857-6336556b0fcc  \n",
       "2  566511c2-e2e3-422b-b695-cf8e6e792ca8  \n",
       "3  7c90fc70-0e80-4590-96f3-13c02c18c713  \n",
       "4  c6bd7419-2748-4c56-95b4-8cec9ff8b80d  "
      ]
     },
     "execution_count": 4,
     "metadata": {},
     "output_type": "execute_result"
    }
   ],
   "source": [
    "print(df.shape) \n",
    "df.head(5)"
   ]
  },
  {
   "cell_type": "markdown",
   "metadata": {},
   "source": [
    "**Show the bottom 5 rows**"
   ]
  },
  {
   "cell_type": "code",
   "execution_count": 5,
   "metadata": {
    "ExecuteTime": {
     "end_time": "2020-11-14T14:13:16.111599Z",
     "start_time": "2020-11-14T14:13:16.015576Z"
    }
   },
   "outputs": [
    {
     "data": {
      "text/html": [
       "<div>\n",
       "<style scoped>\n",
       "    .dataframe tbody tr th:only-of-type {\n",
       "        vertical-align: middle;\n",
       "    }\n",
       "\n",
       "    .dataframe tbody tr th {\n",
       "        vertical-align: top;\n",
       "    }\n",
       "\n",
       "    .dataframe thead th {\n",
       "        text-align: right;\n",
       "    }\n",
       "</style>\n",
       "<table border=\"1\" class=\"dataframe\">\n",
       "  <thead>\n",
       "    <tr style=\"text-align: right;\">\n",
       "      <th></th>\n",
       "      <th>event_time</th>\n",
       "      <th>event_type</th>\n",
       "      <th>product_id</th>\n",
       "      <th>category_id</th>\n",
       "      <th>category_code</th>\n",
       "      <th>brand</th>\n",
       "      <th>price</th>\n",
       "      <th>user_id</th>\n",
       "      <th>user_session</th>\n",
       "    </tr>\n",
       "  </thead>\n",
       "  <tbody>\n",
       "    <tr>\n",
       "      <th>67501974</th>\n",
       "      <td>2019-11-30 23:59:58+00:00</td>\n",
       "      <td>view</td>\n",
       "      <td>15700137</td>\n",
       "      <td>2053013559733912211</td>\n",
       "      <td>NaN</td>\n",
       "      <td>NaN</td>\n",
       "      <td>277.74</td>\n",
       "      <td>532714000</td>\n",
       "      <td>02b4131c-0112-4231-aafa-ceaa08e77c1b</td>\n",
       "    </tr>\n",
       "    <tr>\n",
       "      <th>67501975</th>\n",
       "      <td>2019-11-30 23:59:58+00:00</td>\n",
       "      <td>view</td>\n",
       "      <td>28719425</td>\n",
       "      <td>2053013565639492569</td>\n",
       "      <td>apparel.shoes</td>\n",
       "      <td>baden</td>\n",
       "      <td>62.81</td>\n",
       "      <td>545223467</td>\n",
       "      <td>734c5eef-0742-4f8b-9d22-48f75b0bc359</td>\n",
       "    </tr>\n",
       "    <tr>\n",
       "      <th>67501976</th>\n",
       "      <td>2019-11-30 23:59:59+00:00</td>\n",
       "      <td>view</td>\n",
       "      <td>1004833</td>\n",
       "      <td>2053013555631882655</td>\n",
       "      <td>electronics.smartphone</td>\n",
       "      <td>samsung</td>\n",
       "      <td>167.03</td>\n",
       "      <td>557794415</td>\n",
       "      <td>6fecf566-ebb0-4e70-a243-cdc13ce044cb</td>\n",
       "    </tr>\n",
       "    <tr>\n",
       "      <th>67501977</th>\n",
       "      <td>2019-11-30 23:59:59+00:00</td>\n",
       "      <td>view</td>\n",
       "      <td>2701706</td>\n",
       "      <td>2053013563911439225</td>\n",
       "      <td>appliances.kitchen.refrigerators</td>\n",
       "      <td>samsung</td>\n",
       "      <td>566.27</td>\n",
       "      <td>531607492</td>\n",
       "      <td>368ddc8b-5db9-40fb-b7ff-b6582a1192c0</td>\n",
       "    </tr>\n",
       "    <tr>\n",
       "      <th>67501978</th>\n",
       "      <td>2019-11-30 23:59:59+00:00</td>\n",
       "      <td>view</td>\n",
       "      <td>1004233</td>\n",
       "      <td>2053013555631882655</td>\n",
       "      <td>electronics.smartphone</td>\n",
       "      <td>apple</td>\n",
       "      <td>1312.52</td>\n",
       "      <td>579969851</td>\n",
       "      <td>90aca71c-ed8a-4670-866a-761ebacb732d</td>\n",
       "    </tr>\n",
       "  </tbody>\n",
       "</table>\n",
       "</div>"
      ],
      "text/plain": [
       "                        event_time event_type  product_id  \\\n",
       "67501974 2019-11-30 23:59:58+00:00       view    15700137   \n",
       "67501975 2019-11-30 23:59:58+00:00       view    28719425   \n",
       "67501976 2019-11-30 23:59:59+00:00       view     1004833   \n",
       "67501977 2019-11-30 23:59:59+00:00       view     2701706   \n",
       "67501978 2019-11-30 23:59:59+00:00       view     1004233   \n",
       "\n",
       "                  category_id                     category_code    brand  \\\n",
       "67501974  2053013559733912211                               NaN      NaN   \n",
       "67501975  2053013565639492569                     apparel.shoes    baden   \n",
       "67501976  2053013555631882655            electronics.smartphone  samsung   \n",
       "67501977  2053013563911439225  appliances.kitchen.refrigerators  samsung   \n",
       "67501978  2053013555631882655            electronics.smartphone    apple   \n",
       "\n",
       "            price    user_id                          user_session  \n",
       "67501974   277.74  532714000  02b4131c-0112-4231-aafa-ceaa08e77c1b  \n",
       "67501975    62.81  545223467  734c5eef-0742-4f8b-9d22-48f75b0bc359  \n",
       "67501976   167.03  557794415  6fecf566-ebb0-4e70-a243-cdc13ce044cb  \n",
       "67501977   566.27  531607492  368ddc8b-5db9-40fb-b7ff-b6582a1192c0  \n",
       "67501978  1312.52  579969851  90aca71c-ed8a-4670-866a-761ebacb732d  "
      ]
     },
     "execution_count": 5,
     "metadata": {},
     "output_type": "execute_result"
    }
   ],
   "source": [
    "df.tail(5)"
   ]
  },
  {
   "cell_type": "markdown",
   "metadata": {},
   "source": [
    "## [RQ1] A marketing funnel describes your customer’s journey with your e-commerce. It may involve different stages, beginning when someone learns about your business, when he/she visits your website for the first time, to the purchasing stage, marketing funnels map routes to conversion and beyond."
   ]
  },
  {
   "cell_type": "markdown",
   "metadata": {},
   "source": [
    "### Suppose your funnel involves just three simple steps: 1) view, 2) cart, 3) purchase. Which is the rate of complete funnels?"
   ]
  },
  {
   "cell_type": "markdown",
   "metadata": {},
   "source": [
    "For this problem, we should calculate all the rows that its event_type in a user_session equals to three,and this value（write as Th） is the total numbers of complete funnels. The total numbers of distinct user_session is written as Total. So the rate euqals to Th/Total."
   ]
  },
  {
   "cell_type": "code",
   "execution_count": 6,
   "metadata": {
    "ExecuteTime": {
     "end_time": "2020-11-14T14:24:28.336074Z",
     "start_time": "2020-11-14T14:13:16.114578Z"
    }
   },
   "outputs": [
    {
     "name": "stdout",
     "output_type": "stream",
     "text": [
      "The rate of complete funnels is 1.45%.\n"
     ]
    }
   ],
   "source": [
    "CF =pd.DataFrame( df.groupby(['product_id','user_session','event_type']).event_type.count()).rename(columns={'event_type':'count'}).reset_index()\n",
    "#rename()-> Alter axes labels.\n",
    "#reset_index()->Reset the index of the DataFrame, and use the default one instead. \n",
    "CF = pd.DataFrame(CF.groupby(['product_id','user_session']).user_session.count()).rename(columns={'user_session':'count'}).reset_index()\n",
    "Total= CF.shape[0]\n",
    "Th = CF[CF['count']==3].shape[0]\n",
    "CFR = round(Th*100 / Total,2)\n",
    "print(\"The rate of complete funnels is \"+str(CFR)+'%.')\n"
   ]
  },
  {
   "cell_type": "code",
   "execution_count": 7,
   "metadata": {
    "ExecuteTime": {
     "end_time": "2020-11-14T14:24:28.692557Z",
     "start_time": "2020-11-14T14:24:28.344244Z"
    }
   },
   "outputs": [
    {
     "data": {
      "text/plain": [
       "20"
      ]
     },
     "execution_count": 7,
     "metadata": {},
     "output_type": "execute_result"
    }
   ],
   "source": [
    "gc.collect()"
   ]
  },
  {
   "cell_type": "markdown",
   "metadata": {},
   "source": [
    "### What's the operation users repeat more on average within a session? Produce a plot that shows the average number of times users perform each operation (view/removefromchart etc etc)."
   ]
  },
  {
   "cell_type": "markdown",
   "metadata": {},
   "source": [
    "For this question, we calculate the total number of different operations and the total number of unique user sessions. Then we can calculate and compare the average number of times user perform each operation."
   ]
  },
  {
   "cell_type": "code",
   "execution_count": 24,
   "metadata": {
    "ExecuteTime": {
     "end_time": "2020-11-14T15:25:03.000685Z",
     "start_time": "2020-11-14T15:24:06.890718Z"
    }
   },
   "outputs": [
    {
     "data": {
      "image/png": "[encoded data removed]",
      "text/plain": [
       "<Figure size 432x288 with 1 Axes>"
      ]
     },
     "metadata": {
      "needs_background": "light"
     },
     "output_type": "display_data"
    },
    {
     "name": "stdout",
     "output_type": "stream",
     "text": [
      "The most common operation:view\n"
     ]
    }
   ],
   "source": [
    "'''\n",
    "Calculate all the times of diffenrent operations AP\n",
    "'''\n",
    "AP = df.groupby('event_type').event_type.count()\n",
    "#print(AP)\n",
    "# nunique()-> Return number of unique elements in the object.\n",
    "# unique()-> Return the value of unique elements in the object.\n",
    "'''\n",
    "Calculate the average number of times users perform each operation AVAP\n",
    "'''\n",
    "AVAP = AP.to_numpy() / df.user_session.nunique()\n",
    "#print(df.user_session.nunique())\n",
    "'''\n",
    "Sort the event_type by the number of  different operations ET\n",
    "'''\n",
    "ET = sorted(df.event_type.unique())\n",
    "plt.xlabel('Operation')\n",
    "plt.ylabel('Average Number')\n",
    "plt.plot(ET, AVAP, color='m', linestyle='dashed',  marker='D')\n",
    "plt.show()\n",
    "\n",
    "print(\"The most common operation:\"+str(ET[-1]))\n"
   ]
  },
  {
   "cell_type": "code",
   "execution_count": 9,
   "metadata": {
    "ExecuteTime": {
     "end_time": "2020-11-14T14:25:26.549146Z",
     "start_time": "2020-11-14T14:25:26.505167Z"
    }
   },
   "outputs": [
    {
     "data": {
      "text/plain": [
       "2045"
      ]
     },
     "execution_count": 9,
     "metadata": {},
     "output_type": "execute_result"
    }
   ],
   "source": [
    "gc.collect()"
   ]
  },
  {
   "cell_type": "markdown",
   "metadata": {},
   "source": [
    "### How many times, on average, a user views a product before adding it to the cart?"
   ]
  },
  {
   "cell_type": "code",
   "execution_count": 10,
   "metadata": {
    "ExecuteTime": {
     "end_time": "2020-11-14T14:37:33.378384Z",
     "start_time": "2020-11-14T14:25:26.551143Z"
    }
   },
   "outputs": [
    {
     "name": "stdout",
     "output_type": "stream",
     "text": [
      "The average times that users view a product before purchase is 1.5\n"
     ]
    }
   ],
   "source": [
    "\n",
    "VCT= pd.DataFrame(df[(df.event_type == 'view') | (df.event_type == 'cart')].groupby(['product_id','user_session', 'event_type']).event_type.count()).rename(columns={'event_type':'my_count'}).reset_index()\n",
    "VC = pd.DataFrame(VCT.groupby(['product_id','user_session']).user_session.count()).rename(columns={'user_session':'count'}).reset_index()\n",
    "VC = VC[VC['count'] == 2]\n",
    "VC = pd.merge(VCT,VC[['product_id','user_session']], how='inner', on=['product_id','user_session'])\n",
    "MT= VCT[VCT['event_type'] == 'view'].my_count.mean()\n",
    "print(\"The average times that users view a product before purchase is \"+str(round(MT,2)))\n"
   ]
  },
  {
   "cell_type": "code",
   "execution_count": 11,
   "metadata": {
    "ExecuteTime": {
     "end_time": "2020-11-14T14:37:33.552394Z",
     "start_time": "2020-11-14T14:37:33.387385Z"
    }
   },
   "outputs": [
    {
     "data": {
      "text/plain": [
       "20"
      ]
     },
     "execution_count": 11,
     "metadata": {},
     "output_type": "execute_result"
    }
   ],
   "source": [
    "gc.collect()"
   ]
  },
  {
   "cell_type": "markdown",
   "metadata": {},
   "source": [
    "### What's the probability that products added once to the cart are effectively bought?"
   ]
  },
  {
   "cell_type": "markdown",
   "metadata": {},
   "source": [
    "Let a={product is added once to the cart},b={product is purchased},then P(products added once to the cart are effectively bought)=P(b|a).\n",
    "From the multiplication rule, we can know that P(ab)= P(b|a) * P(a), so P(b|a) = P(ab)/P(a)."
   ]
  },
  {
   "cell_type": "code",
   "execution_count": 12,
   "metadata": {
    "ExecuteTime": {
     "end_time": "2020-11-14T14:39:12.322439Z",
     "start_time": "2020-11-14T14:37:33.556393Z"
    }
   },
   "outputs": [
    {
     "name": "stdout",
     "output_type": "stream",
     "text": [
      "The probability that products added once to the cart are effectively bought is 0.26\n"
     ]
    }
   ],
   "source": [
    "P_a=df[df['event_type']=='cart'].shape[0]\n",
    "#Sum = df.user_session.nunique()\n",
    "CP = pd.DataFrame(df[(df.event_type == 'cart') | (df.event_type == 'purchase')].groupby(['product_id','user_session', 'event_type']).event_type.count()).rename(columns={'event_type':'my_count'}).reset_index()\n",
    "CP = pd.DataFrame(CP.groupby(['product_id','user_session']).user_session.count()).rename(columns={'user_session':'count'}).reset_index()\n",
    "CP = CP[CP['count']==2]\n",
    "P_ab= CP.shape[0]\n",
    "#P_ab = (Pa * P_b_a) / pow(Sum,2)\n",
    "P_ba = round(P_ab / P_a,2) \n",
    "print(\"The probability that products added once to the cart are effectively bought is \" + str(P_ba))"
   ]
  },
  {
   "cell_type": "code",
   "execution_count": 13,
   "metadata": {
    "ExecuteTime": {
     "end_time": "2020-11-14T14:39:12.448454Z",
     "start_time": "2020-11-14T14:39:12.328439Z"
    }
   },
   "outputs": [
    {
     "data": {
      "text/plain": [
       "20"
      ]
     },
     "execution_count": 13,
     "metadata": {},
     "output_type": "execute_result"
    }
   ],
   "source": [
    "gc.collect()"
   ]
  },
  {
   "cell_type": "markdown",
   "metadata": {},
   "source": [
    "###  What's the average time an item stays in the cart before being removed?"
   ]
  },
  {
   "cell_type": "markdown",
   "metadata": {},
   "source": [
    "Because we do not find any removerfromcart operation in the file, we think that goods are removed from the cart means that they are purchased successfully.\n",
    "The average time an item stays in the cart before being removed can be transform to the average time an item stays in the cart before purchased."
   ]
  },
  {
   "cell_type": "code",
   "execution_count": 34,
   "metadata": {
    "ExecuteTime": {
     "end_time": "2020-11-14T15:46:02.096164Z",
     "start_time": "2020-11-14T15:45:40.873161Z"
    }
   },
   "outputs": [
    {
     "name": "stdout",
     "output_type": "stream",
     "text": [
      "The average time an item stays in the cart before being removed is 162.05 seconds.\n"
     ]
    }
   ],
   "source": [
    "#DataFrame.drop_duplicates(subset=None, keep='first', inplace=False)\n",
    "#pd.dropna()Filter out missing data\n",
    "'''\n",
    "pd.merge(left, right, how='inner', on=None, left_on=None, right_on=None,\n",
    "         left_index=False, right_index=False, sort=True,\n",
    "         suffixes=('_x', '_y'), copy=True, indicator=False,\n",
    "         validate=None)\n",
    "'''\n",
    "#find all the cart/purchase operation and its event time, then keep the first occured repeat sessions and remove others\n",
    "cart = df[df['event_type'] == 'cart'].sort_values(by=['event_time']).drop_duplicates(subset = ['user_session'], keep = 'first') \n",
    "remove = df[df['event_type'] == 'purchase'].sort_values(by=['event_time']).drop_duplicates(subset = ['user_session'], keep = 'first') \n",
    "\n",
    "#calculate the intersection of purchase and cart within a user session and delete the missing value \n",
    "#such as no cart operation or no purchase operation within a user session then it would be filtered out\n",
    "result = pd.merge(cart, remove[['user_session','event_time']], how='inner', on=['user_session']).dropna()\n",
    "\n",
    "#calculate the mean time between cart view and first purchase\n",
    "mean_time = (result.event_time_y - result.event_time_x).mean()\n",
    "cart_remove_time = pd.Timedelta(mean_time).total_seconds() \n",
    "print(\"The average time an item stays in the cart before being removed is \" +str(round(cart_remove_time,2))+ ' seconds.')"
   ]
  },
  {
   "cell_type": "code",
   "execution_count": 15,
   "metadata": {
    "ExecuteTime": {
     "end_time": "2020-11-14T14:39:32.272379Z",
     "start_time": "2020-11-14T14:39:32.233386Z"
    }
   },
   "outputs": [
    {
     "data": {
      "text/plain": [
       "20"
      ]
     },
     "execution_count": 15,
     "metadata": {},
     "output_type": "execute_result"
    }
   ],
   "source": [
    "gc.collect()"
   ]
  },
  {
   "cell_type": "markdown",
   "metadata": {},
   "source": [
    "### How much time passes on average between the first view time and a purchase/addition to cart?"
   ]
  },
  {
   "cell_type": "code",
   "execution_count": 36,
   "metadata": {
    "ExecuteTime": {
     "end_time": "2020-11-14T15:58:12.326599Z",
     "start_time": "2020-11-14T15:52:19.907208Z"
    }
   },
   "outputs": [
    {
     "name": "stdout",
     "output_type": "stream",
     "text": [
      "The average time between the first view and add to cart is 350.25 seconds.\n"
     ]
    }
   ],
   "source": [
    "#find all the view/cart operation and its event time, then keep the first occured repeat sessions and remove others\n",
    "view = df[df['event_type'] == 'view'].sort_values(by=['event_time']).drop_duplicates(subset = ['user_session'], keep = 'first') \n",
    "cart = df[df['event_type'] == 'cart'].sort_values(by=['event_time']).drop_duplicates(subset = ['user_session'], keep = 'first') \n",
    "\n",
    "#calculate the intersection of view and cart within a user session and delete the missing value \n",
    "#such as no cart operation or no view operation within a user session then it would be filtered out\n",
    "result = pd.merge(view, cart[['user_session','event_time']], how='inner', on=['user_session']).dropna()\n",
    "\n",
    "#calculate the mean time between first view and first cart\n",
    "mean_time = (result.event_time_y - result.event_time_x).mean()\n",
    "view_cart_time = pd.Timedelta(mean_time).total_seconds()\n",
    "print(\"The average time between the first view and add to cart is \" +str(round(view_cart_time,2))+ ' seconds.')"
   ]
  },
  {
   "cell_type": "code",
   "execution_count": 37,
   "metadata": {
    "ExecuteTime": {
     "end_time": "2020-11-14T16:03:35.772645Z",
     "start_time": "2020-11-14T15:58:12.338554Z"
    }
   },
   "outputs": [
    {
     "name": "stdout",
     "output_type": "stream",
     "text": [
      "The average time between the first view and a purchase is 422.75 seconds.\n"
     ]
    }
   ],
   "source": [
    "#find all the view/purchase operation and its event time, then keep the first occured repeat sessions and remove others\n",
    "view = df[df['event_type'] == 'view'].sort_values(by=['event_time']).drop_duplicates(subset = ['user_session'], keep = 'first') \n",
    "purchase = df[df['event_type'] == 'purchase'].sort_values(by=['event_time']).drop_duplicates(subset = ['user_session'], keep = 'first') \n",
    "\n",
    "#calculate the intersection of view and purchase within a user session and delete the missing value \n",
    "#such as no purchase operation or no view operation within a user session then it would be filtered out\n",
    "result = pd.merge(view, purchase[['user_session','event_time']], how='inner', on=['user_session']).dropna()\n",
    "\n",
    "#calculate the mean time between first view and first purchase \n",
    "mean_time = (result.event_time_y - result.event_time_x).mean()\n",
    "view_purchase_time = pd.Timedelta(mean_time).total_seconds()\n",
    "print(\"The average time between the first view and a purchase is \" +str(round(view_purchase_time,2))+ ' seconds.')"
   ]
  },
  {
   "cell_type": "code",
   "execution_count": 18,
   "metadata": {
    "ExecuteTime": {
     "end_time": "2020-11-14T14:51:11.446320Z",
     "start_time": "2020-11-14T14:51:11.147317Z"
    }
   },
   "outputs": [
    {
     "data": {
      "text/plain": [
       "40"
      ]
     },
     "execution_count": 18,
     "metadata": {},
     "output_type": "execute_result"
    }
   ],
   "source": [
    "gc.collect()"
   ]
  },
  {
   "cell_type": "markdown",
   "metadata": {},
   "source": [
    "## [RQ2] What are the categories of the most trending products overall? "
   ]
  },
  {
   "cell_type": "markdown",
   "metadata": {},
   "source": [
    "The question asks to find the number of sold product per category and plot it by month. \n",
    "* So we decide to calculate the number of sold product per category for each month\n",
    "* then we create two plots for the two months to show it."
   ]
  },
  {
   "cell_type": "markdown",
   "metadata": {},
   "source": [
    "### Number of sold product per category -month: October"
   ]
  },
  {
   "cell_type": "code",
   "execution_count": 138,
   "metadata": {},
   "outputs": [],
   "source": [
    "def sold_october(dataset):\n",
    "    purchases_O = dataset[dataset['event_type'] == 'purchase']\n",
    "\n",
    "    purchases_category_O = purchases_O[purchases_O.category_code.notnull()]\n",
    "\n",
    "    O=purchases_category_O.groupby('category_code').category_code.count()\\\n",
    "    .sort_values(ascending=False)\n",
    "\n",
    "    for index, row in O.iteritems():\n",
    "        #Extract category, create dict\n",
    "\n",
    "        c = str(index).split('.')\n",
    "        category = c[0]\n",
    "\n",
    "        if category not in purchase_cat_O.keys():\n",
    "            purchase_cat_O[category] = int(row)\n",
    "\n",
    "        else:\n",
    "            purchase_cat_O[category] += int(row)\n",
    "\n",
    "            \n",
    "purchase_cat_O = {}\n",
    "for chunk in pd.read_csv(files[0], chunksize=chunksize):\n",
    "    sold_october(chunk)\n",
    "    "
   ]
  },
  {
   "cell_type": "markdown",
   "metadata": {},
   "source": [
    "### Number of sold product per category -month: November"
   ]
  },
  {
   "cell_type": "code",
   "execution_count": 9,
   "metadata": {},
   "outputs": [],
   "source": [
    "def sold_november(dataset):\n",
    "    purchases_N = dataset[dataset['event_type'] == 'purchase']\n",
    "\n",
    "    purchases_category_N = purchases_N[purchases_N.category_code.notnull()]\n",
    "\n",
    "    N = purchases_category_N.groupby('category_code').category_code.count() \\\n",
    "        .sort_values(ascending=False)\n",
    "\n",
    "\n",
    "\n",
    "    for index, row in N.iteritems():\n",
    "        # Extract category, create dict\n",
    "\n",
    "        c = str(index).split('.')\n",
    "        category = c[0]\n",
    "\n",
    "        if category not in purchase_cat_N.keys():\n",
    "            purchase_cat_N[category] = int(row)\n",
    "\n",
    "        else:\n",
    "            purchase_cat_N[category] += int(row)\n",
    "\n",
    "\n",
    "purchase_cat_N = {}\n",
    "for chunk in pd.read_csv(files[1], chunksize=chunksize):\n",
    "    sold_november(chunk)\n",
    "    \n"
   ]
  },
  {
   "cell_type": "markdown",
   "metadata": {},
   "source": [
    "### For each month visualize this information through a plot showing the number of sold products per category."
   ]
  },
  {
   "cell_type": "code",
   "execution_count": 17,
   "metadata": {},
   "outputs": [
    {
     "data": {
      "image/png": "[encoded data removed]",
      "text/plain": [
       "<Figure size 432x288 with 1 Axes>"
      ]
     },
     "metadata": {
      "needs_background": "light"
     },
     "output_type": "display_data"
    },
    {
     "data": {
      "image/png": "[encoded data removed]",
      "text/plain": [
       "<Figure size 432x288 with 1 Axes>"
      ]
     },
     "metadata": {
      "needs_background": "light"
     },
     "output_type": "display_data"
    }
   ],
   "source": [
    "#Plot1: October\n",
    "\n",
    "plt.title('October')\n",
    "names = list(purchase_cat_O.keys())\n",
    "values = list(purchase_cat_O.values())\n",
    "plt.ylabel('Category')\n",
    "plt.xlabel('Sold products')\n",
    "plt.barh(range(len(purchase_cat_O)), values, tick_label=names, color='darkorange')\n",
    "plt.show()\n",
    "\n",
    "#Plot2: November\n",
    "\n",
    "plt.title('November')\n",
    "names = list(purchase_cat_N.keys())\n",
    "values = list(purchase_cat_N.values())\n",
    "plt.ylabel('Category')\n",
    "plt.xlabel('Sold products')\n",
    "plt.barh(range(len(purchase_cat_N)), values, tick_label=names, color= 'gold')\n",
    "plt.show()\n"
   ]
  },
  {
   "cell_type": "markdown",
   "metadata": {},
   "source": [
    "We can notice that, in both October and November, *electronics* is the category with the highest nummber of sold product, followed by *appliances* and *computers*. \n",
    "In November the number of sold products is a little bit higher.\n",
    "The number of sold products per category is similar between the two months, so we can assume that there is a kind of \"trend\" in what are the most favourite categories. "
   ]
  },
  {
   "cell_type": "markdown",
   "metadata": {},
   "source": [
    "###  Plot the (5) most visited subcategories "
   ]
  },
  {
   "cell_type": "markdown",
   "metadata": {},
   "source": [
    "The request askes to plot the most visited subcategories. We decide to assume that the most visited categories are the top 5 categories with the highest number of visits overall. \n",
    "\n",
    "* We started calculating the number of visits per subcategory, storing this info in a dictionary with *key = subcatecory* and *value= number of visits*\n",
    " \n",
    "* Then we sort the dictionary in ascending order by price, and we take only the first 5 subcategories.\n",
    "\n",
    "* We show them in a plot with different colours per subcategory\n",
    "\n",
    "We combine category and subcategory to better show the contest"
   ]
  },
  {
   "cell_type": "code",
   "execution_count": 14,
   "metadata": {},
   "outputs": [],
   "source": [
    "def visited_subcategory(data):\n",
    "    \n",
    "    # Filter Data of View Only\n",
    "    view = data[data['event_type'] == 'view']\n",
    "    \n",
    "    #Delete nan values\n",
    "    view_category = view[view.category_code.notnull()]\n",
    "    \n",
    "    view_sub=view_category.groupby('category_code').category_code.count()\\\n",
    "    .sort_values(ascending=False)\n",
    "    \n",
    "    \n",
    "    for index, row in view_sub.iteritems():\n",
    "        #Extract category+sub, create dict\n",
    "        c = str(index).split('.')\n",
    "        category = c[0]\n",
    "        product = c[1]\n",
    "        subcategory = category + '.' + product\n",
    "        \n",
    "        if subcategory not in view_d.keys():\n",
    "            view_d[subcategory] = int(row)\n",
    "    \n",
    "        else:\n",
    "            view_d[subcategory] += int(row)\n",
    "\n",
    "            \n",
    "view_d={}           \n",
    "for file in files:\n",
    "    for chunk in pd.read_csv(file, chunksize=chunksize):\n",
    "        visited_subcategory(chunk)"
   ]
  },
  {
   "cell_type": "code",
   "execution_count": 15,
   "metadata": {},
   "outputs": [
    {
     "data": {
      "text/plain": [
       "[('electronics.smartphone', 25451835),\n",
       " ('appliances.kitchen', 8418017),\n",
       " ('electronics.audio', 3679555),\n",
       " ('apparel.shoes', 3554471),\n",
       " ('electronics.clocks', 3267223)]"
      ]
     },
     "execution_count": 15,
     "metadata": {},
     "output_type": "execute_result"
    }
   ],
   "source": [
    "#Five most visited categories+subcategory\n",
    "\n",
    "d2 = sorted(view_d.items(), key=lambda x: x[1], reverse=True)\n",
    "#print(d2)\n",
    "d2[0:5]"
   ]
  },
  {
   "cell_type": "code",
   "execution_count": 66,
   "metadata": {},
   "outputs": [
    {
     "data": {
      "image/png": "[encoded data removed]",
      "text/plain": [
       "<Figure size 432x288 with 1 Axes>"
      ]
     },
     "metadata": {
      "needs_background": "light"
     },
     "output_type": "display_data"
    }
   ],
   "source": [
    "top5 = d2[0:5]\n",
    "\n",
    "#define x and y\n",
    "x = []\n",
    "y=[]\n",
    "\n",
    "for el in top5:\n",
    "    x.append(el[0])\n",
    "    y.append(el[1])\n",
    "\n",
    "    \n",
    "#Plot\n",
    "names = x\n",
    "values = y\n",
    "\n",
    "plt.title('5 most visited product per category')\n",
    "plt.ylabel('Category')\n",
    "plt.xlabel('Views')\n",
    "plt.barh(range(len(top5)), values, tick_label=names, color=['pink', 'red', 'green', 'blue', 'cyan'])\n",
    "plt.show()"
   ]
  },
  {
   "cell_type": "markdown",
   "metadata": {},
   "source": [
    "We can notice, again, that similarly with the previous plot also here the category *electronics* is the favourite.\n",
    "\n",
    "The top 5 visited subcategories are:\n",
    "1. Smartphone\n",
    "2. kitchen\n",
    "3. audio\n",
    "4. shoes\n",
    "5. clocks"
   ]
  },
  {
   "cell_type": "markdown",
   "metadata": {},
   "source": [
    "### What are the 10 most sold products per category?"
   ]
  },
  {
   "cell_type": "markdown",
   "metadata": {},
   "source": [
    "To solve the problem: \n",
    "* we create a dictionary of dictionaries in which we store the category as a *key* and its *value* is a dictionary with the product as a *key* and the count of the times they were sold as a *value*\n",
    "* we sort, for each category, its products in ascending order by price\n",
    "* we take the first 10 products per catecory\n"
   ]
  },
  {
   "cell_type": "code",
   "execution_count": 5,
   "metadata": {},
   "outputs": [],
   "source": [
    "def sold_products_per_category(dataset):\n",
    "    \n",
    "    \"\"\"\n",
    "    Function that populates the product per category dictionary with, for each category, the most sold procucts in ascending order \n",
    "    :param data: Chunk\n",
    "    :return: Dictionary\n",
    "    \"\"\"\n",
    "    \n",
    "    purchases = dataset[dataset['event_type'] == 'purchase']\n",
    "\n",
    "    purchases_category = purchases[purchases.category_code.notnull()]\n",
    "\n",
    "    P=purchases_category.groupby('category_code').category_code.count()\\\n",
    "    .sort_values(ascending=False)\n",
    "        \n",
    "    for index, row in P.iteritems():\n",
    "        #Extract category, prod create dict\n",
    "\n",
    "        c = str(index).split('.')\n",
    "        category = c[0]\n",
    "        product = c[-1]\n",
    "\n",
    "        if category in prod_cat:\n",
    "\n",
    "            if product in prod_cat[category]:\n",
    "\n",
    "                prod_cat[category][product] += int(row)\n",
    "\n",
    "            else:\n",
    "\n",
    "                prod_cat[category][product] = int(row)\n",
    "\n",
    "        else:\n",
    "\n",
    "            prod_cat[category] = {product: int(row)}\n",
    "            \n",
    "            \n",
    "prod_cat={}           \n",
    "for file in files:\n",
    "    for chunk in pd.read_csv(file, chunksize=chunksize):\n",
    "        sold_products_per_category(chunk)"
   ]
  },
  {
   "cell_type": "code",
   "execution_count": 35,
   "metadata": {},
   "outputs": [
    {
     "name": "stdout",
     "output_type": "stream",
     "text": [
      " \n",
      "electronics:\n",
      "['smartphone', 'headphone', 'tv', 'clocks', 'tablet', 'telephone', 'subwoofer', 'acoustic', 'piano', 'microphone']\n",
      " \n",
      "computers:\n",
      "['notebook', 'desktop', 'printer', 'monitor', 'hdd', 'mouse', 'videocards', 'memory', 'keyboard', 'cooler']\n",
      " \n",
      "appliances:\n",
      "['washer', 'vacuum', 'refrigerators', 'microwave', 'iron', 'blender', 'kettle', 'water_heater', 'oven', 'air_heater']\n",
      " \n",
      "auto:\n",
      "['player', 'alarm', 'videoregister', 'compressor', 'radar', 'parktronic', 'winch', 'anti_freeze']\n",
      " \n",
      "kids:\n",
      "['carriage', 'toys', 'diapers', 'skates', 'swing', 'dolls']\n",
      " \n",
      "construction:\n",
      "['drill', 'saw', 'generator', 'welding', 'faucet', 'pump', 'painting', 'light', 'soldering', 'screw']\n",
      " \n",
      "apparel:\n",
      "['shoes', 'keds', 'costume', 'jeans', 'underwear', 'shirt', 'tshirt', 'dress', 'moccasins', 'jumper']\n",
      " \n",
      "furniture:\n",
      "['bed', 'cabinet', 'chair', 'sofa', 'table', 'toilet', 'blanket', 'pillow', 'bath', 'light']\n",
      " \n",
      "accessories:\n",
      "['bag', 'wallet', 'umbrella']\n",
      " \n",
      "sport:\n",
      "['bicycle', 'trainer', 'snowboard', 'ski', 'tennis']\n",
      " \n",
      "medicine:\n",
      "['tonometer']\n",
      " \n",
      "stationery:\n",
      "['cartrige']\n",
      " \n",
      "country_yard:\n",
      "['lawn_mower', 'cultivator', 'hammok']\n"
     ]
    }
   ],
   "source": [
    "for el in prod_cat:\n",
    "    \n",
    "    l = sorted(prod_cat[el].items(), key=lambda x: x[1], reverse=True)\n",
    "    p=[]\n",
    "    \n",
    "    for v in l:\n",
    "        p.append(v[0])\n",
    "    #print(p)\n",
    "    \n",
    "    print(f' \\n{el}:') #print name of category\n",
    "    print(p[:10])      # and top ten categories"
   ]
  },
  {
   "cell_type": "markdown",
   "metadata": {},
   "source": [
    "* We can notice that not all the categories has ten products, so we see a smaller list.\n",
    "* Thanks to this list we can see what are the favourite product the users are usual to buy"
   ]
  },
  {
   "cell_type": "markdown",
   "metadata": {},
   "source": [
    "## [RQ3] For each category, what’s the brand whose prices are higher on average?"
   ]
  },
  {
   "cell_type": "markdown",
   "metadata": {},
   "source": [
    "### Write a function that asks the user a category in input and returns a plot indicating the average price of the products sold by the brand."
   ]
  },
  {
   "cell_type": "markdown",
   "metadata": {},
   "source": [
    "* We first decide to show a list of the category a user can choose in input.\n",
    "\n",
    "* Then we create the function that take a category in input and return a plot with all the brand of the category. To do it the funtion take into account all the subcategory, in this way we can have all the brand of the category. We splitted the line of the series to take the first part as *category* and then we can store in the dictionary all the brand one subcategory after another "
   ]
  },
  {
   "cell_type": "code",
   "execution_count": 10,
   "metadata": {},
   "outputs": [
    {
     "name": "stdout",
     "output_type": "stream",
     "text": [
      "Choose a category in the list below: \n",
      "\n",
      "electronics\n",
      "computers\n",
      "appliances\n",
      "auto\n",
      "kids\n",
      "construction\n",
      "apparel\n",
      "furniture\n",
      "accessories\n",
      "sport\n",
      "medicine\n",
      "stationery\n",
      "country_yard\n"
     ]
    }
   ],
   "source": [
    "print('Choose a category in the list below: \\n')\n",
    "for el in prod_cat:\n",
    "    print(el) #print name of category"
   ]
  },
  {
   "cell_type": "markdown",
   "metadata": {},
   "source": [
    "#### Function that asks the user a category in input and returns a plot"
   ]
  },
  {
   "cell_type": "code",
   "execution_count": 6,
   "metadata": {
    "scrolled": true
   },
   "outputs": [
    {
     "name": "stdout",
     "output_type": "stream",
     "text": [
      "Choose a category:\n",
      "country_yard\n"
     ]
    },
    {
     "data": {
      "image/png": "[encoded data removed]",
      "text/plain": [
       "<Figure size 1296x504 with 1 Axes>"
      ]
     },
     "metadata": {
      "needs_background": "light"
     },
     "output_type": "display_data"
    }
   ],
   "source": [
    "def avg_analysis(data, category):\n",
    "    \n",
    "    \"\"\"\n",
    "    Function that populates the product per category dictionary with, for each category, the most sold procucts in ascending order \n",
    "    :param data: Chunk and category (in input)\n",
    "    :return: Dictionary\n",
    "    \"\"\"\n",
    "    \n",
    "    #preparing data, extract columns\n",
    "    avg = data[['category_code', 'brand', 'price']]\n",
    "    avg_brand = avg[avg.brand.notnull()]\n",
    "    \n",
    "    # new series grouped by category with avg price per brand\n",
    "    a = avg_brand.groupby([avg_brand.category_code, avg_brand.brand]) \\\n",
    "        .price.mean()\n",
    "\n",
    "    for index, row in a.iteritems():\n",
    "        avg_price = row\n",
    "        brand = index[1]\n",
    "        cat_prod = str(index[0]).split('.')\n",
    "        cat = cat_prod[0]\n",
    "        \n",
    "        #print(cat)\n",
    "        #print(brand)\n",
    "        \n",
    "        if category == cat:\n",
    "            if brand not in brand_avg_price.keys():\n",
    "                brand_avg_price[brand] = avg_price\n",
    "    \n",
    "    return brand_avg_price\n",
    "\n",
    "\n",
    "def plot():\n",
    "    \n",
    "    \"\"\"\n",
    "    Function that plots the average price of the products sold by the brand of the chosen category\n",
    "    :param data: Visits Dictionary\n",
    "    :return: None\n",
    "    \"\"\" \n",
    "    # category in input\n",
    "    print('Choose a category:')\n",
    "    category = input()\n",
    "    \n",
    "    #data\n",
    "    dict_brand_avg={}\n",
    "    for file in files:\n",
    "        for chunk in pd.read_csv(file, chunksize=chunksize):\n",
    "            dict_brand_avg = avg_analysis(chunk, category)\n",
    "            \n",
    "\n",
    "    # Plot\n",
    "    plt.figure(figsize=(18, 7))\n",
    "    plt.title('Average price of the products sold by the brand')\n",
    "    names = list(brand_avg_price.keys())\n",
    "    values = list(brand_avg_price.values())\n",
    "    plt.xlabel('Brand')\n",
    "    plt.ylabel('Average price')\n",
    "    plt.xticks(rotation=90)\n",
    "    plt.bar(range(len(brand_avg_price)), values, tick_label=names, color='indianred')\n",
    "    plt.show()\n",
    "\n",
    "    \n",
    "# dict with brand and avg price\n",
    "brand_avg_price = {}\n",
    "\n",
    "plot()"
   ]
  },
  {
   "cell_type": "markdown",
   "metadata": {},
   "source": [
    "The plot speaks clear and show which are de brand with the highest average price"
   ]
  },
  {
   "cell_type": "markdown",
   "metadata": {},
   "source": [
    "### Find, for each category, the brand with the highest average price. Return all the results in ascending order by price."
   ]
  },
  {
   "cell_type": "markdown",
   "metadata": {},
   "source": [
    "* first, we take only the columns we're interested in, we sort the values in ascending order by price. So we have first the brand with the highest price.\n",
    "* we create a dictionary with the category as a key *key* and the brand with his price as a *value* . \n",
    "* We take into account account only the first brand per category, that is the brand with the higher price.\n",
    "* We print for each category the brand and price. They are alredy in ascending oredr."
   ]
  },
  {
   "cell_type": "code",
   "execution_count": 63,
   "metadata": {},
   "outputs": [],
   "source": [
    "def sold_products_per_category(data):\n",
    "    \n",
    "    \"\"\"\n",
    "    Function that populates a dictionary with the brand with the highest average price for each category\n",
    "    :param data: Chunk\n",
    "    :return: Dictionary\n",
    "    \"\"\"\n",
    "    \n",
    "    #take three useful columns\n",
    "    avg = data[['category_code', 'brand', 'price']]\n",
    "    \n",
    "    #delete nan values\n",
    "    avg_brand = avg[avg.brand.notnull()]\n",
    "\n",
    "    #sort by price, first  the brands with highest avg price and their category\n",
    "    a = avg_brand.groupby([avg_brand.category_code, avg_brand.brand])['price'].mean() \\\n",
    "        .sort_values(ascending=False)\n",
    "\n",
    "\n",
    "    for index, row in a.iteritems():\n",
    "        # Extract category, brand, avg price create dict with only the first brand per category\n",
    "        \n",
    "        # Extract category code, product and create dict\n",
    "        cat_prod = str(index[0]).split('.')\n",
    "        category = cat_prod[0]\n",
    "        brand = (index[1])\n",
    "        avg_price = round(float(row),2)\n",
    "\n",
    "        if category not in highest_brand.keys():\n",
    "            highest_brand[category] = f'{brand} : {avg_price}'\n",
    "\n",
    "\n",
    "# Fetch Files to Read\n",
    "highest_brand = {}\n",
    "for file in files:\n",
    "    for chunk in pd.read_csv(file, chunksize=chunksize):\n",
    "        sold_products_per_category(chunk)\n"
   ]
  },
  {
   "cell_type": "code",
   "execution_count": 136,
   "metadata": {},
   "outputs": [
    {
     "name": "stdout",
     "output_type": "stream",
     "text": [
      "List of the brand with the highest average price, in ascending order by price, per category \n",
      "\n",
      "Category: sport  ---> Brand with the highest average price= pinarello : 2367.89\n",
      "\n",
      "Category: appliances  ---> Brand with the highest average price= climadiff : 2325.9\n",
      "\n",
      "Category: electronics  ---> Brand with the highest average price= rado : 2112.48\n",
      "\n",
      "Category: computers  ---> Brand with the highest average price= apple : 1821.24\n",
      "\n",
      "Category: kids  ---> Brand with the highest average price= hartan : 1801.82\n",
      "\n",
      "Category: construction  ---> Brand with the highest average price= senci : 1455.27\n",
      "\n",
      "Category: furniture  ---> Brand with the highest average price= askona : 1261.86\n",
      "\n",
      "Category: auto  ---> Brand with the highest average price= schneider : 1048.9\n",
      "\n",
      "Category: country_yard  ---> Brand with the highest average price= viking : 1026.54\n",
      "\n",
      "Category: accessories  ---> Brand with the highest average price= weekend : 504.63\n",
      "\n",
      "Category: apparel  ---> Brand with the highest average price= weekend : 331.72\n",
      "\n",
      "Category: stationery  ---> Brand with the highest average price= xerox : 66.67\n",
      "\n",
      "Category: medicine  ---> Brand with the highest average price= omron : 56.26\n",
      "\n"
     ]
    }
   ],
   "source": [
    "# List of categories\n",
    "\n",
    "l=['electronics','computers','appliances','auto','kids','construction','apparel','furniture','accessories','sport','medicine','stationery','country_yard']\n",
    "\n",
    "#new dict\n",
    "d2={}\n",
    "\n",
    "#extract only the brand with hight avg prices per category\n",
    "for j in highest_brand.keys():\n",
    "    for i in l:\n",
    "        c = j.split('.')\n",
    "        if i == c[0] and i not in d2.keys():\n",
    "            d2[i]=highest_brand[j]\n",
    "\n",
    "print('List of the brand with the highest average price, in ascending order by price, per category \\n')\n",
    "for k in d2:\n",
    "    print(f'Category: {k} ', f'---> Brand with the highest average price= {d2[k]}\\n')"
   ]
  },
  {
   "cell_type": "markdown",
   "metadata": {},
   "source": [
    "We can simply see which brand is the more expensive. For example \"apple\" for computers or \"xerox\" for the stationery"
   ]
  },
  {
   "cell_type": "markdown",
   "metadata": {},
   "source": [
    "## [RQ4] How much does each brand earn per month?\n"
   ]
  },
  {
   "cell_type": "markdown",
   "metadata": {},
   "source": [
    "To answer the question we compute the total profit per brand separately per month.\n",
    "\n",
    "\n",
    "* We take only the purchase product\n",
    "* We store the total gained in a dictionary with the brand as *key* and his profit as *value*\n",
    "* The function takes a brand in input and search in the dictionary the total amount gained by it \n"
   ]
  },
  {
   "cell_type": "markdown",
   "metadata": {},
   "source": [
    "### Write a function that given the name of a brand in input returns, for each month, its profit. \n"
   ]
  },
  {
   "cell_type": "markdown",
   "metadata": {},
   "source": [
    "### Brand's profit  -month: October"
   ]
  },
  {
   "cell_type": "code",
   "execution_count": 68,
   "metadata": {},
   "outputs": [],
   "source": [
    "def october_profit(data):\n",
    "    purchases_O = data[data['event_type'] == 'purchase']\n",
    "    \n",
    "    bO=purchases_O.groupby('brand').price.sum()\\\n",
    "        .sort_values(ascending=False)\n",
    "    \n",
    "\n",
    "\n",
    "    #October total gained per brand\n",
    "    for index, row in bO.iteritems():\n",
    "        #Extract brand + tot, create dict\n",
    "        brand = str(index)\n",
    "        tot = float(row)\n",
    "        \n",
    "        if brand not in brand_price_O.keys():\n",
    "            brand_price_O[brand] = tot\n",
    "    \n",
    "        else:\n",
    "            brand_price_O[brand] += tot\n",
    "    \n",
    "# Fetch Files to Read\n",
    "brand_price_O = {}\n",
    "for chunk in pd.read_csv(files[0], chunksize=chunksize):\n",
    "    october_profit(chunk)\n",
    "    \n",
    "#print profit in ascending order by price\n",
    "#print(brand_price_O)    \n"
   ]
  },
  {
   "cell_type": "markdown",
   "metadata": {},
   "source": [
    "### Brand's profit  -month: November"
   ]
  },
  {
   "cell_type": "code",
   "execution_count": 69,
   "metadata": {},
   "outputs": [],
   "source": [
    "def november_profit(data):\n",
    "    purchases_N = data[data['event_type'] == 'purchase']\n",
    "    bN=purchases_N.groupby('brand').price.sum().sort_values(ascending=False)\n",
    "    \n",
    "\n",
    "    #November total gained per brand\n",
    "\n",
    "    for index, row in bN.iteritems():\n",
    "        #Extract brand + tot, create dict\n",
    "        brand = str(index)\n",
    "        tot = float(row)\n",
    "        \n",
    "        if brand not in brand_price_N.keys():\n",
    "            brand_price_N[brand] = tot\n",
    "    \n",
    "        else:\n",
    "            brand_price_N[brand] += tot\n",
    "\n",
    "\n",
    "# Fetch Files to Read   \n",
    "brand_price_N = {}\n",
    "for chunk in pd.read_csv(files[1], chunksize=chunksize):\n",
    "    november_profit(chunk)    \n"
   ]
  },
  {
   "cell_type": "markdown",
   "metadata": {},
   "source": [
    "### Function that given the name of a brand in input returns, for each month, its profit"
   ]
  },
  {
   "cell_type": "code",
   "execution_count": 132,
   "metadata": {},
   "outputs": [
    {
     "name": "stdout",
     "output_type": "stream",
     "text": [
      "Choose a brand:\n",
      "asus\n",
      "In October asus gained: 970019.39\n",
      "In November asus gained: 1665811.59\n"
     ]
    }
   ],
   "source": [
    "def month_gain_brand(brand):    \n",
    "    \n",
    "    \n",
    "    if brand in brand_price_O:\n",
    "        gain_oct=brand_price_O[brand]\n",
    "        print(f'In October {brand} gained: ' + str(round(gain_oct, 2)))    \n",
    "    else:\n",
    "        print(f'In October {brand} has not sold products')\n",
    "              \n",
    "    \n",
    "    if brand in brand_price_N:\n",
    "              \n",
    "        gain_nov=brand_price_N[brand]\n",
    "        print(f'In November {brand} gained: ' + str(round(gain_nov, 2)))\n",
    "              \n",
    "    else:\n",
    "        print(f'In November {brand} has not sold products')\n",
    "\n",
    "        \n",
    "        \n",
    "print('Choose a brand:')\n",
    "brand= input()\n",
    "month_gain_brand(brand)"
   ]
  },
  {
   "cell_type": "markdown",
   "metadata": {},
   "source": [
    "We can see a better profit in November. We can assume it can depend also on some events that occur in November as \"Black Friday\" or \"Single's day\" in which there are many products on sales and people are more inclined to buy."
   ]
  },
  {
   "cell_type": "markdown",
   "metadata": {},
   "source": [
    "### Is the average price of products of different brands significantly different?"
   ]
  },
  {
   "cell_type": "markdown",
   "metadata": {},
   "source": [
    "* We take into account only the column \"brand\" and \"price\", that are of our interest. Because we assume that we want to see the average price of the brand in general, that means the average price of the products it has sold. \n",
    "* We create a function that that populates a list with the average price of products by brand\n",
    "* To analys the differences between the average price of products of different brand we generate descriptive statistics by the function *.describe()*"
   ]
  },
  {
   "cell_type": "code",
   "execution_count": 87,
   "metadata": {},
   "outputs": [],
   "source": [
    "def avg_price_brand(data):\n",
    "    \n",
    "    \"\"\"\n",
    "    Function that populates a list with the average price of products by brand\n",
    "    :param data: Chunk\n",
    "    :return: list\n",
    "    \"\"\"    \n",
    "\n",
    "    # Pandas series with two columns that i'll use\n",
    "    avg = data[['brand','price']]\n",
    "\n",
    "    # Eliminate nan values\n",
    "    avg_brand = avg[avg.brand.notnull()]\n",
    "\n",
    "    brand_avg_list.append(avg_brand.groupby(['brand'])['price'].mean())\n",
    "\n",
    "\n",
    "brand_avg_list = []\n",
    "\n",
    "# Fetch Files to Read\n",
    "for file in files:\n",
    "    for chunk in pd.read_csv(file, chunksize=chunksize):\n",
    "        avg_price_brand(chunk)\n",
    "\n",
    "# Join DataFrames\n",
    "brand_avg = pd.concat(brand_avg_list).sum(level='brand').reset_index()"
   ]
  },
  {
   "cell_type": "code",
   "execution_count": 88,
   "metadata": {},
   "outputs": [
    {
     "data": {
      "text/html": [
       "<div>\n",
       "<style scoped>\n",
       "    .dataframe tbody tr th:only-of-type {\n",
       "        vertical-align: middle;\n",
       "    }\n",
       "\n",
       "    .dataframe tbody tr th {\n",
       "        vertical-align: top;\n",
       "    }\n",
       "\n",
       "    .dataframe thead th {\n",
       "        text-align: right;\n",
       "    }\n",
       "</style>\n",
       "<table border=\"1\" class=\"dataframe\">\n",
       "  <thead>\n",
       "    <tr style=\"text-align: right;\">\n",
       "      <th></th>\n",
       "      <th>brand</th>\n",
       "      <th>price</th>\n",
       "    </tr>\n",
       "  </thead>\n",
       "  <tbody>\n",
       "    <tr>\n",
       "      <th>0</th>\n",
       "      <td>a-case</td>\n",
       "      <td>151.743344</td>\n",
       "    </tr>\n",
       "    <tr>\n",
       "      <th>1</th>\n",
       "      <td>a-derma</td>\n",
       "      <td>168.000865</td>\n",
       "    </tr>\n",
       "    <tr>\n",
       "      <th>2</th>\n",
       "      <td>a-elita</td>\n",
       "      <td>522.505398</td>\n",
       "    </tr>\n",
       "    <tr>\n",
       "      <th>3</th>\n",
       "      <td>a-mega</td>\n",
       "      <td>1034.805005</td>\n",
       "    </tr>\n",
       "    <tr>\n",
       "      <th>4</th>\n",
       "      <td>aardwolf</td>\n",
       "      <td>567.416394</td>\n",
       "    </tr>\n",
       "  </tbody>\n",
       "</table>\n",
       "</div>"
      ],
      "text/plain": [
       "      brand        price\n",
       "0    a-case   151.743344\n",
       "1   a-derma   168.000865\n",
       "2   a-elita   522.505398\n",
       "3    a-mega  1034.805005\n",
       "4  aardwolf   567.416394"
      ]
     },
     "execution_count": 88,
     "metadata": {},
     "output_type": "execute_result"
    }
   ],
   "source": [
    "#Return the first n rows to see if there are the right type of data \n",
    "brand_avg.head()"
   ]
  },
  {
   "cell_type": "code",
   "execution_count": 89,
   "metadata": {},
   "outputs": [
    {
     "data": {
      "text/html": [
       "<div>\n",
       "<style scoped>\n",
       "    .dataframe tbody tr th:only-of-type {\n",
       "        vertical-align: middle;\n",
       "    }\n",
       "\n",
       "    .dataframe tbody tr th {\n",
       "        vertical-align: top;\n",
       "    }\n",
       "\n",
       "    .dataframe thead th {\n",
       "        text-align: right;\n",
       "    }\n",
       "</style>\n",
       "<table border=\"1\" class=\"dataframe\">\n",
       "  <thead>\n",
       "    <tr style=\"text-align: right;\">\n",
       "      <th></th>\n",
       "      <th>price</th>\n",
       "    </tr>\n",
       "  </thead>\n",
       "  <tbody>\n",
       "    <tr>\n",
       "      <th>count</th>\n",
       "      <td>4302.000000</td>\n",
       "    </tr>\n",
       "    <tr>\n",
       "      <th>mean</th>\n",
       "      <td>1663.344933</td>\n",
       "    </tr>\n",
       "    <tr>\n",
       "      <th>std</th>\n",
       "      <td>2842.698962</td>\n",
       "    </tr>\n",
       "    <tr>\n",
       "      <th>min</th>\n",
       "      <td>2.060000</td>\n",
       "    </tr>\n",
       "    <tr>\n",
       "      <th>25%</th>\n",
       "      <td>193.682931</td>\n",
       "    </tr>\n",
       "    <tr>\n",
       "      <th>50%</th>\n",
       "      <td>603.165744</td>\n",
       "    </tr>\n",
       "    <tr>\n",
       "      <th>75%</th>\n",
       "      <td>1741.518246</td>\n",
       "    </tr>\n",
       "    <tr>\n",
       "      <th>max</th>\n",
       "      <td>30020.856000</td>\n",
       "    </tr>\n",
       "  </tbody>\n",
       "</table>\n",
       "</div>"
      ],
      "text/plain": [
       "              price\n",
       "count   4302.000000\n",
       "mean    1663.344933\n",
       "std     2842.698962\n",
       "min        2.060000\n",
       "25%      193.682931\n",
       "50%      603.165744\n",
       "75%     1741.518246\n",
       "max    30020.856000"
      ]
     },
     "execution_count": 89,
     "metadata": {},
     "output_type": "execute_result"
    }
   ],
   "source": [
    "#Generate descriptive statistics\n",
    "brand_avg.describe()"
   ]
  },
  {
   "cell_type": "markdown",
   "metadata": {},
   "source": [
    "In our eCommerce there are many kind of products, so we have some brands, that sell expensive prodcuts such as computers or refrigerators and so on that have an average price much more higher then the brand that sell cheaper products.\n",
    "\n",
    "So we can assume that yes, the average price of products of different brands is significantly different. We go froma minimum of 2.6 to a maximum of 30020.85, with a mean of 1663.34."
   ]
  },
  {
   "cell_type": "markdown",
   "metadata": {},
   "source": [
    "### Top 3 brands that have suffered the biggest losses in earnings between one month and the next."
   ]
  },
  {
   "cell_type": "markdown",
   "metadata": {},
   "source": [
    "To answer this question:\n",
    "* we calculate the total gained for each month, but only for the brands that are in both the months.\n",
    "* to have the loss we apply the formula \n",
    "* we store the infos in a list with all the brands and in a dictionary with all the brand and their lost\n",
    "* we ordered the dict and take only he three brands that have suffere the biggest losses"
   ]
  },
  {
   "cell_type": "code",
   "execution_count": 70,
   "metadata": {},
   "outputs": [],
   "source": [
    "losses=[]\n",
    "losses_d={} \n",
    "\n",
    "def loss(brand):\n",
    "    \n",
    "    \"\"\"\n",
    "    Function that determine the loss between the two months\n",
    "    :param data: Chunk\n",
    "    :return: two dict\n",
    "    \"\"\"     \n",
    "    \n",
    "    if brand in brand_price_O:\n",
    "        if brand in brand_price_N:\n",
    "            gain_oct=float(brand_price_O[brand])\n",
    "            gain_nov=float(brand_price_N[brand])\n",
    "            loss= ((gain_nov - gain_oct)/ gain_oct)*100\n",
    "            losses_d[brand] = loss\n",
    "\n",
    "brand_O = list(brand_price_O.keys())\n",
    "brand_N =list(brand_price_N.keys())\n",
    "brand_tot = list(set(brand_O + brand_N))\n",
    "            \n",
    "for brand in brand_tot:\n",
    "    loss(brand)"
   ]
  },
  {
   "cell_type": "code",
   "execution_count": 71,
   "metadata": {},
   "outputs": [
    {
     "name": "stdout",
     "output_type": "stream",
     "text": [
      " jonnesway lost -96.6% between October and November \n",
      " sunfull lost -96.0% between October and November \n",
      " evga lost -95.9% between October and November\n"
     ]
    }
   ],
   "source": [
    "losses_d_ord = sorted(losses_d.items(), key = lambda x: x[1])\n",
    "top3_brand = losses_d_ord[0:3]\n",
    "\n",
    "brand = []\n",
    "perc = []\n",
    "\n",
    "for b in top3_brand:\n",
    "    brand.append(b[0])\n",
    "    perc.append(round(b[1], 1))\n",
    "    \n",
    "    \n",
    "print(f\" {brand[0]} lost {perc[0]}% between October and November \\n\"\n",
    "      f\" {brand[1]} lost {perc[1]}% between October and November \\n\"\n",
    "      f\" {brand[2]} lost {perc[2]}% between October and November\")\n"
   ]
  },
  {
   "cell_type": "markdown",
   "metadata": {},
   "source": [
    "The three brand that have suffered the biggest losses in earnings between one month and the next are:\n",
    "* jonnesway \n",
    "* sunfull \n",
    "* evga "
   ]
  },
  {
   "cell_type": "markdown",
   "metadata": {},
   "source": [
    "## [RQ5] In what part of the day is your store most visited? \n",
    "\n"
   ]
  },
  {
   "cell_type": "markdown",
   "metadata": {},
   "source": [
    "* We started the analysis taking into account only the viwed prodcut\n",
    "* We grouped per *event_time* separating the weekday to the hour. We counted the total number of visits in each day and each hour there are in our ecommerce in total.\n",
    "* To have the averege number of visits we divide the total of the views for the total number of the weekday we has. In October+November there are 8 monday and sunday and 9 of the remaining weekday.\n",
    "* We create a line plot to show the hourly average of visitors our store has, for each day of the week."
   ]
  },
  {
   "cell_type": "markdown",
   "metadata": {},
   "source": [
    "### Create a plot that for each day of the week show the hourly average of visitors your store has."
   ]
  },
  {
   "cell_type": "code",
   "execution_count": 119,
   "metadata": {},
   "outputs": [],
   "source": [
    "def visits_analysis(data):\n",
    "    \"\"\"\n",
    "    Function that populates the Visits dictionary with the number of visits per Day/Hour\n",
    "    :param data: Chunk\n",
    "    :return: Dictionary\n",
    "    \"\"\"\n",
    "\n",
    "    # Filter Data of view only ---> show the hourly average of visitors your store has\n",
    "    views = data[data['event_type'] == 'view']\n",
    "\n",
    "    # query to divide by day and by hour with the count of the visits\n",
    "    avg_views = views.groupby([views[\"event_time\"].dt.weekday, views[\"event_time\"].dt.hour])['event_type'].count()\n",
    "\n",
    "    # print(avg_views)\n",
    "    # Fetch Rows\n",
    "\n",
    "    for index, row in avg_views.iteritems():\n",
    "        # count weekday\n",
    "        w_d = []\n",
    "    \n",
    "        dayOfWeek = {0: 'Monday', 1: 'Tuesday', 2: 'Wednesday', 3: 'Thursday', 4: 'Friday', 5: 'Saturday', 6: 'Sunday'}\n",
    "    \n",
    "        # extract day of the week, hour, number of visits\n",
    "        week_day = dayOfWeek[index[0]]\n",
    "        hour = index[1]\n",
    "        num_visits = row\n",
    "    \n",
    "    \n",
    "        # Populate the Visits Dictionary\n",
    "        if week_day in visits_dict:\n",
    "    \n",
    "            if hour in visits_dict[week_day]:\n",
    "    \n",
    "                visits_dict[week_day][hour] += num_visits\n",
    "    \n",
    "            else:\n",
    "    \n",
    "                visits_dict[week_day][hour] = num_visits\n",
    "    \n",
    "        else:\n",
    "    \n",
    "            visits_dict[week_day] = {hour: num_visits}\n",
    "            \n",
    "    \n",
    "\n",
    "# Init Visits Dictionary\n",
    "visits_dict = {}\n",
    "\n",
    "# Fetch Files to Read\n",
    "for file in files:\n",
    "    for chunk in pd.read_csv(file, chunksize=chunksize, header='infer',parse_dates=['event_time'], date_parser=pd.to_datetime):\n",
    "        visits_analysis(chunk)\n",
    "\n",
    "\n",
    "# Plot\n",
    "#visits_plotting(visits_dict)\n",
    "#df = pd.DataFrame(visits_dict)\n",
    "#df.plot()"
   ]
  },
  {
   "cell_type": "code",
   "execution_count": 122,
   "metadata": {},
   "outputs": [],
   "source": [
    "# we have 8 monday and sunday, and 9 Tuesday, Wednesday, Thursday, Thursday\n",
    "# so the avg visits are the count of the totals for hours between two months divided by the totals days of the week\n",
    "\n",
    "v = []\n",
    "for el in visits_dict.keys(): \n",
    "    #print('elemento:', el)\n",
    "    if el in ['Monday', 'Sunday' ]: #, 'Sunday']:\n",
    "        \n",
    "        k= visits_dict[el].keys()\n",
    "        for i in visits_dict[el].values():\n",
    "            n= float(i/8)\n",
    "            #avg = round(n,2) \n",
    "            v.append(n)\n",
    "            \n",
    "        new_dict= dict(zip(k,v))\n",
    "        visits_dict[el] = new_dict\n",
    "        #print(visits_dict)\n",
    "        v.clear()\n",
    "    \n",
    "    elif el in ['Tuesday', 'Wednesday', 'Thursday', 'Friday', 'Saturday' ]:\n",
    "\n",
    "        k= visits_dict[el].keys()\n",
    "        for i in visits_dict[el].values():\n",
    "            n= float(i/9)\n",
    "            #avg = round(n,2) \n",
    "            v.append(n)\n",
    "            \n",
    "        new_dict= dict(zip(k,v))\n",
    "        visits_dict[el] = new_dict\n",
    "        #print(visits_dict)\n",
    "        v.clear()\n"
   ]
  },
  {
   "cell_type": "code",
   "execution_count": 130,
   "metadata": {},
   "outputs": [
    {
     "data": {
      "image/png": "[encoded data removed]",
      "text/plain": [
       "<Figure size 1296x504 with 1 Axes>"
      ]
     },
     "metadata": {
      "needs_background": "light"
     },
     "output_type": "display_data"
    }
   ],
   "source": [
    "visits_df = pd.DataFrame(visits_dict)\n",
    "visits_df.plot(figsize = (18, 7),title='Hourly average of visitors')\n",
    "plt.show()"
   ]
  },
  {
   "cell_type": "markdown",
   "metadata": {},
   "source": [
    "The plot clearly show that during Friday, Saturday and Sunday the average number of visits is higher.\n",
    "In general, excluding Saturday and Sunday, in the morning and in the afternoon the store is much more visited. We can notice the curve decreases during lunch, and significatly after 20.\n",
    "Differently from the other days of the week, during the weekend the curve does not go down during lunch.\n",
    "\n",
    "Maybe people has much more time in the weekend so there is an higher average number of visits, and also this is costant during the day until dinner time."
   ]
  },
  {
   "cell_type": "markdown",
   "metadata": {},
   "source": [
    "## [RQ6] The conversion rate of a product is given by the number of times a product has been bought over the number of times it has been visited. What's the conversion rate of your online store?"
   ]
  },
  {
   "cell_type": "markdown",
   "metadata": {},
   "source": [
    "* To find the overall converion rate we start counting the purchases and views and createing the corresponding dataframe group by category\n",
    "* we create a plot to show the overall number of purchases of each category (differently from RQ2 in which we have created two different plots for the two months)\n",
    "* to calculate the conversion rate we apply the formula: purchases_total/views_total"
   ]
  },
  {
   "cell_type": "markdown",
   "metadata": {},
   "source": [
    "### Find the overall conversion rate of your store."
   ]
  },
  {
   "cell_type": "code",
   "execution_count": 22,
   "metadata": {},
   "outputs": [],
   "source": [
    "def sales_analysis(data, purchases, views):\n",
    "\n",
    "    \"\"\"\n",
    "    Funciton that counts the purchases & views and creates the corresponding dataframe group by category\n",
    "    :param data: DataFrame Chunk\n",
    "    :param purchases: Temporary number of purchases\n",
    "    :param views: Temporary number of views\n",
    "    :return: number of purchases and views\n",
    "    \"\"\"\n",
    "\n",
    "    # Calculate Purchases and Views\n",
    "    purchases = purchases + len(data[data['event_type'] == 'purchase'])\n",
    "    views = views + len(data[data['event_type'] == 'view'])\n",
    "\n",
    "    # Drop NaN values for column \"category_code\"\n",
    "    data.dropna(subset=['category_code'], inplace=True)\n",
    "\n",
    "    # Split the Category from the Sub-Category\n",
    "    data['category_code'] = data['category_code'].apply(lambda x: str(x).split('.')[0])\n",
    "\n",
    "    # Create DataFrame of only Purchases and Views\n",
    "    purchases_df = data[data['event_type'] == 'purchase']\n",
    "    views_df = data[data['event_type'] == 'view']\n",
    "\n",
    "    # Append the series calculated by count the purchases and views group by category_code\n",
    "    category_purchases_list.append(purchases_df.groupby(['category_code'])['event_time'].count())\n",
    "    category_views_list.append(views_df.groupby(['category_code'])['event_time'].count())\n",
    "\n",
    "    return purchases, views\n",
    "\n",
    "\n",
    "def calculate_category_conversion_rate(purchases, views):\n",
    "\n",
    "    \"\"\"\n",
    "    Function that calculates the overall conversion rate per category\n",
    "    :param purchases: DataFrame purchases per category\n",
    "    :param views: DataFrame views per category\n",
    "    :return: category_conversion_rate\n",
    "    \"\"\"\n",
    "\n",
    "    # Concatenate the Two Series into a DataFrame\n",
    "    category_conversion_rate = views.merge(purchases, on='category_code')\n",
    "\n",
    "    # Rename Columns\n",
    "    category_conversion_rate.rename(columns={'count_x': 'views', 'count_y': 'purchases'}, inplace=True)\n",
    "\n",
    "    # Drop NaNs\n",
    "    category_conversion_rate = category_conversion_rate.dropna()\n",
    "\n",
    "    # Calculate Conversion Rate\n",
    "    category_conversion_rate['conversion_rate'] = category_conversion_rate['purchases']/category_conversion_rate['views']\n",
    "\n",
    "    # Order by Conversion Rate Descending\n",
    "    category_conversion_rate = category_conversion_rate.sort_values(by='conversion_rate', ascending=False)\n",
    "\n",
    "    return category_conversion_rate\n",
    "\n",
    "\n",
    "def plot_category_purchases_conversion_rate(data):\n",
    "\n",
    "    \"\"\"\n",
    "    Function that plots the purchases and conversion rate of each category\n",
    "    :param data: DataFrame of Purchases by Category\n",
    "    :return: Plot\n",
    "    \"\"\"\n",
    "\n",
    "    # Extract X and Y\n",
    "    x = list(data['category_code'])\n",
    "    purchases = list(data['purchases'])\n",
    "\n",
    "    # Plot\n",
    "    \n",
    "    plt.title('Purchases per Category')\n",
    "    y_pos = np.arange(len(x))\n",
    "    plt.barh(y_pos, purchases, align='center', alpha=1, color='forestgreen')\n",
    "    plt.yticks(y_pos, x)\n",
    "    plt.ylabel('Category')\n",
    "    plt.xlabel('Sold products')\n",
    "    plt.show()\n",
    "    \n",
    "    \n",
    "# Init Category Analysis DataFrame\n",
    "category_purchases_list = []\n",
    "category_views_list = []\n",
    "\n",
    "# Init Number of Purchases and Views\n",
    "purchases_total = 0\n",
    "views_total = 0\n",
    "\n",
    "# Fetch Files to Read\n",
    "for file in files:\n",
    "\n",
    "    for chunk in pd.read_csv(file, chunksize=chunksize):\n",
    "\n",
    "        purchases_total, views_total = sales_analysis(chunk, purchases_total, views_total)\n",
    "\n",
    "\n",
    "# Join DataFrames\n",
    "category_purchases = pd.concat(category_purchases_list).sum(level='category_code').reset_index()\n",
    "category_views = pd.concat(category_views_list).sum(level='category_code').reset_index()\n",
    "\n",
    "# Rename Column\n",
    "category_purchases.rename(columns={'event_time': 'count'}, inplace=True)\n",
    "category_views.rename(columns={'event_time': 'count'}, inplace=True)\n",
    "\n",
    "# Calculate the Category Conversion Rate\n",
    "conversion_rate_df = calculate_category_conversion_rate(category_purchases, category_views)"
   ]
  },
  {
   "cell_type": "markdown",
   "metadata": {},
   "source": [
    "### Plot the number of purchases of each category"
   ]
  },
  {
   "cell_type": "code",
   "execution_count": 23,
   "metadata": {
    "scrolled": false
   },
   "outputs": [
    {
     "data": {
      "image/png": "[encoded data removed]",
      "text/plain": [
       "<Figure size 432x288 with 1 Axes>"
      ]
     },
     "metadata": {
      "needs_background": "light"
     },
     "output_type": "display_data"
    }
   ],
   "source": [
    "# Plot\n",
    "plot_category_purchases_conversion_rate(conversion_rate_df)"
   ]
  },
  {
   "cell_type": "markdown",
   "metadata": {},
   "source": [
    "This plot is similar to the two in RQ2, so it is coerent with what we have previously see. \n",
    "The Most sold categories are: \n",
    "* electronics\n",
    "* appliances\n",
    "* computers"
   ]
  },
  {
   "cell_type": "markdown",
   "metadata": {},
   "source": [
    "### Show the conversion rate of each category in decreasing order."
   ]
  },
  {
   "cell_type": "code",
   "execution_count": 24,
   "metadata": {},
   "outputs": [],
   "source": [
    "# Calculate the Overall Conversion Rate\n",
    "overall_conversion_rate = purchases_total/views_total\n",
    "perc_overall_conversion_rate = overall_conversion_rate * 100\n",
    "perc_overall_conversion_rate = round(perc_overall_conversion_rate, 2)"
   ]
  },
  {
   "cell_type": "code",
   "execution_count": 25,
   "metadata": {
    "scrolled": true
   },
   "outputs": [
    {
     "name": "stdout",
     "output_type": "stream",
     "text": [
      "The Overall Conversion Rate is: 1.59%\n",
      "\n",
      " Conversion Rate by Category Code:\n"
     ]
    },
    {
     "data": {
      "text/html": [
       "<div>\n",
       "<style scoped>\n",
       "    .dataframe tbody tr th:only-of-type {\n",
       "        vertical-align: middle;\n",
       "    }\n",
       "\n",
       "    .dataframe tbody tr th {\n",
       "        vertical-align: top;\n",
       "    }\n",
       "\n",
       "    .dataframe thead th {\n",
       "        text-align: right;\n",
       "    }\n",
       "</style>\n",
       "<table border=\"1\" class=\"dataframe\">\n",
       "  <thead>\n",
       "    <tr style=\"text-align: right;\">\n",
       "      <th></th>\n",
       "      <th>category_code</th>\n",
       "      <th>views</th>\n",
       "      <th>purchases</th>\n",
       "      <th>conversion_rate</th>\n",
       "    </tr>\n",
       "  </thead>\n",
       "  <tbody>\n",
       "    <tr>\n",
       "      <th>7</th>\n",
       "      <td>electronics</td>\n",
       "      <td>37026582</td>\n",
       "      <td>916667</td>\n",
       "      <td>0.024757</td>\n",
       "    </tr>\n",
       "    <tr>\n",
       "      <th>10</th>\n",
       "      <td>medicine</td>\n",
       "      <td>34738</td>\n",
       "      <td>654</td>\n",
       "      <td>0.018827</td>\n",
       "    </tr>\n",
       "    <tr>\n",
       "      <th>12</th>\n",
       "      <td>stationery</td>\n",
       "      <td>19323</td>\n",
       "      <td>325</td>\n",
       "      <td>0.016819</td>\n",
       "    </tr>\n",
       "    <tr>\n",
       "      <th>2</th>\n",
       "      <td>appliances</td>\n",
       "      <td>12837916</td>\n",
       "      <td>174022</td>\n",
       "      <td>0.013555</td>\n",
       "    </tr>\n",
       "    <tr>\n",
       "      <th>4</th>\n",
       "      <td>computers</td>\n",
       "      <td>6297977</td>\n",
       "      <td>62332</td>\n",
       "      <td>0.009897</td>\n",
       "    </tr>\n",
       "    <tr>\n",
       "      <th>3</th>\n",
       "      <td>auto</td>\n",
       "      <td>2157706</td>\n",
       "      <td>21339</td>\n",
       "      <td>0.009890</td>\n",
       "    </tr>\n",
       "    <tr>\n",
       "      <th>5</th>\n",
       "      <td>construction</td>\n",
       "      <td>1759762</td>\n",
       "      <td>16500</td>\n",
       "      <td>0.009376</td>\n",
       "    </tr>\n",
       "    <tr>\n",
       "      <th>9</th>\n",
       "      <td>kids</td>\n",
       "      <td>1292002</td>\n",
       "      <td>11648</td>\n",
       "      <td>0.009015</td>\n",
       "    </tr>\n",
       "    <tr>\n",
       "      <th>11</th>\n",
       "      <td>sport</td>\n",
       "      <td>415087</td>\n",
       "      <td>2725</td>\n",
       "      <td>0.006565</td>\n",
       "    </tr>\n",
       "    <tr>\n",
       "      <th>0</th>\n",
       "      <td>accessories</td>\n",
       "      <td>616475</td>\n",
       "      <td>3741</td>\n",
       "      <td>0.006068</td>\n",
       "    </tr>\n",
       "    <tr>\n",
       "      <th>8</th>\n",
       "      <td>furniture</td>\n",
       "      <td>3295250</td>\n",
       "      <td>19843</td>\n",
       "      <td>0.006022</td>\n",
       "    </tr>\n",
       "    <tr>\n",
       "      <th>1</th>\n",
       "      <td>apparel</td>\n",
       "      <td>4477518</td>\n",
       "      <td>22217</td>\n",
       "      <td>0.004962</td>\n",
       "    </tr>\n",
       "    <tr>\n",
       "      <th>6</th>\n",
       "      <td>country_yard</td>\n",
       "      <td>31255</td>\n",
       "      <td>132</td>\n",
       "      <td>0.004223</td>\n",
       "    </tr>\n",
       "  </tbody>\n",
       "</table>\n",
       "</div>"
      ],
      "text/plain": [
       "   category_code     views  purchases  conversion_rate\n",
       "7    electronics  37026582     916667         0.024757\n",
       "10      medicine     34738        654         0.018827\n",
       "12    stationery     19323        325         0.016819\n",
       "2     appliances  12837916     174022         0.013555\n",
       "4      computers   6297977      62332         0.009897\n",
       "3           auto   2157706      21339         0.009890\n",
       "5   construction   1759762      16500         0.009376\n",
       "9           kids   1292002      11648         0.009015\n",
       "11         sport    415087       2725         0.006565\n",
       "0    accessories    616475       3741         0.006068\n",
       "8      furniture   3295250      19843         0.006022\n",
       "1        apparel   4477518      22217         0.004962\n",
       "6   country_yard     31255        132         0.004223"
      ]
     },
     "execution_count": 25,
     "metadata": {},
     "output_type": "execute_result"
    }
   ],
   "source": [
    "print(f\"The Overall Conversion Rate is: {perc_overall_conversion_rate}%\")\n",
    "print(\"\\n Conversion Rate by Category Code:\")\n",
    "\n",
    "#Print conversion rate\n",
    "conversion_rate_df"
   ]
  },
  {
   "cell_type": "markdown",
   "metadata": {},
   "source": [
    "The overall conversion rate is 1.59%. For a large B2C commerce (as [our](https://www.kaggle.com/mkechinov/ecommerce-behavior-data-from-multi-category-store?select=2019-Oct.csv)) a good conversion rate is around 1%. So we can assume that our conversion rate is a good conversion rate.\n",
    "\n",
    "Also for some categories we can see a good conversion rate:\n",
    "* electronics: 2,4%\n",
    "* Medicine: 1,8%\n",
    "* stationery 1,6%\n",
    "* appliances 1,3%\n",
    "* but also computers, pretty near to 1%"
   ]
  },
  {
   "cell_type": "markdown",
   "metadata": {},
   "source": [
    "## [RQ7] The Pareto principle states that for many outcomes roughly 80% of consequences come from 20% of the causes. Also known as 80/20 rule, in e-commerce simply means that most of your business, around 80%, likely comes from about 20% of your customers."
   ]
  },
  {
   "cell_type": "markdown",
   "metadata": {},
   "source": [
    "### Prove that the pareto principle applies to your store."
   ]
  },
  {
   "cell_type": "markdown",
   "metadata": {},
   "source": [
    "The Pareto principle states that for many outcomes roughly 80% of consequences come from 20% of the causes. Also known as 80/20 rule, in e-commerce simply means that most of your business, around 80%, likely comes from about 20% of your customers."
   ]
  },
  {
   "cell_type": "markdown",
   "metadata": {},
   "source": [
    "For prvove the Pareto principle, we just have to confirm that the head 20 percent of customers who have purchased goods in our store took up the 80 percent turnovers of our store."
   ]
  },
  {
   "cell_type": "code",
   "execution_count": 31,
   "metadata": {
    "ExecuteTime": {
     "end_time": "2020-11-14T15:36:39.522749Z",
     "start_time": "2020-11-14T15:36:33.753766Z"
    }
   },
   "outputs": [
    {
     "name": "stdout",
     "output_type": "stream",
     "text": [
      "The head 20% custommers' purchasing power took up about 72.1% of the businesses.\n"
     ]
    }
   ],
   "source": [
    "\n",
    "#BC= pd.DataFrame(df[df.event_type == 'purchase'].groupby(['product_id','event_type','user_id']).user_id.count()).rename(columns={'user_id':'my_count'}).reset_index().groupby('my_count').my_count.count()\n",
    "BCM = pd.DataFrame(df[df.event_type == 'purchase'].groupby(['user_id']).price.sum()).rename(columns={'price':'total_count'}).reset_index()\n",
    "BCM = pd.DataFrame(BCM).sort_values(by=['total_count'],ascending=0)\n",
    "customers_twper = math.ceil(0.2 * BCM.shape[0])\n",
    "business = BCM.head(customers_twper).total_count.sum() / BCM.total_count.sum()\n",
    "print(\"The head 20% custommers' purchasing power took up about \"+str(round(business*100,2))+'% of the businesses.')"
   ]
  },
  {
   "cell_type": "markdown",
   "metadata": {},
   "source": [
    "From the result, we can see that about 72.1 percent of turnovers came from the head 20% of customers. Actually, the ration(2:7.21) is close to 2:8, so it shown that the Pareto principle states can be applied with the business in our store."
   ]
  }
 ],
 "metadata": {
  "kernelspec": {
   "display_name": "Python 3",
   "language": "python",
   "name": "python3"
  },
  "language_info": {
   "codemirror_mode": {
    "name": "ipython",
    "version": 3
   },
   "file_extension": ".py",
   "mimetype": "text/x-python",
   "name": "python",
   "nbconvert_exporter": "python",
   "pygments_lexer": "ipython3",
   "version": "3.8.3"
  }
 },
 "nbformat": 4,
 "nbformat_minor": 4
}
